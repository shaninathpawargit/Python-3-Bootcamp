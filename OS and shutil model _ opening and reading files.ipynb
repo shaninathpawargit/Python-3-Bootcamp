{
 "cells": [
  {
   "cell_type": "code",
   "execution_count": 1,
   "metadata": {},
   "outputs": [
    {
     "data": {
      "text/plain": [
       "'C:\\\\Users\\\\Shani Pawar\\\\PythonWorkspace'"
      ]
     },
     "execution_count": 1,
     "metadata": {},
     "output_type": "execute_result"
    }
   ],
   "source": [
    "pwd"
   ]
  },
  {
   "cell_type": "code",
   "execution_count": 2,
   "metadata": {},
   "outputs": [],
   "source": [
    "f = open('practice.txt','w+')\n",
    "f.write('This is a test hooya !')\n",
    "f.close()"
   ]
  },
  {
   "cell_type": "code",
   "execution_count": 3,
   "metadata": {},
   "outputs": [],
   "source": [
    "import os"
   ]
  },
  {
   "cell_type": "code",
   "execution_count": 4,
   "metadata": {},
   "outputs": [
    {
     "data": {
      "text/plain": [
       "'C:\\\\Users\\\\Shani Pawar\\\\PythonWorkspace'"
      ]
     },
     "execution_count": 4,
     "metadata": {},
     "output_type": "execute_result"
    }
   ],
   "source": [
    "os.getcwd()"
   ]
  },
  {
   "cell_type": "code",
   "execution_count": 5,
   "metadata": {},
   "outputs": [
    {
     "data": {
      "text/plain": [
       "['.ipynb_checkpoints',\n",
       " '03-Milestone Project 1 - Complete Walkthrough Solution.ipynb',\n",
       " '04-Function Practice Exercises - Solutions.ipynb',\n",
       " '07-args and kwargs.ipynb',\n",
       " 'args and kwargs.ipynb',\n",
       " 'asdhgh.txt',\n",
       " 'booleans.ipynb',\n",
       " 'Collections module python.ipynb',\n",
       " 'comparison operators.ipynb',\n",
       " 'course data',\n",
       " 'Decorators in python.ipynb',\n",
       " 'dictionaries.ipynb',\n",
       " 'Errors and exception handling.ipynb',\n",
       " 'files input output.ipynb',\n",
       " 'For loop.ipynb',\n",
       " 'Functions and Tuple unpacking using functions.ipynb',\n",
       " 'functions basics in python.ipynb',\n",
       " 'Functions Interactions.ipynb',\n",
       " 'Generators in Python.ipynb',\n",
       " 'If else and elif statements.ipynb',\n",
       " 'inheritance and polymorphism.ipynb',\n",
       " 'lambda functions map and filter.ipynb',\n",
       " 'list comprehensions.ipynb',\n",
       " 'lists.ipynb',\n",
       " 'Methods in python.ipynb',\n",
       " 'milestone 2 warm up project.ipynb',\n",
       " 'Milestone project 2 Blackjack game.ipynb',\n",
       " 'myfile.txt',\n",
       " 'my_new_file.txt',\n",
       " 'nested statements and scopes.ipynb',\n",
       " 'Numbers.ipynb',\n",
       " 'OOP Challange solution.ipynb',\n",
       " 'OOP Special methods.ipynb',\n",
       " 'OOP using python classes and attributes.ipynb',\n",
       " 'OS and shutil model _ opening and reading files.ipynb',\n",
       " 'practice.txt',\n",
       " 'pylint and unittest',\n",
       " 'sets.ipynb',\n",
       " 'String properties and methods.ipynb',\n",
       " 'Strings.ipynb',\n",
       " 'Tic Tac Toe game using python.ipynb',\n",
       " 'tuples.ipynb',\n",
       " 'Untitled.ipynb',\n",
       " 'useful operators.ipynb',\n",
       " 'User input and display it.ipynb',\n",
       " 'User Interaction.ipynb',\n",
       " 'Variables.ipynb',\n",
       " 'while loops.ipynb']"
      ]
     },
     "execution_count": 5,
     "metadata": {},
     "output_type": "execute_result"
    }
   ],
   "source": [
    "os.listdir()"
   ]
  },
  {
   "cell_type": "code",
   "execution_count": 6,
   "metadata": {},
   "outputs": [
    {
     "data": {
      "text/plain": [
       "['All Users',\n",
       " 'Default',\n",
       " 'Default User',\n",
       " 'desktop.ini',\n",
       " 'IMG_20171123_141225.jpg',\n",
       " 'MSSQL$SQLEXPRESS',\n",
       " 'MSSQLFDLauncher$SQLEXPRESS',\n",
       " 'MSSQLSERVER',\n",
       " 'Public',\n",
       " 'ReportServer$SQLEXPRESS',\n",
       " 'Shani Pawar',\n",
       " 'SQLTELEMETRY']"
      ]
     },
     "execution_count": 6,
     "metadata": {},
     "output_type": "execute_result"
    }
   ],
   "source": [
    "os.listdir('C:\\\\Users')"
   ]
  },
  {
   "cell_type": "code",
   "execution_count": 7,
   "metadata": {},
   "outputs": [],
   "source": [
    "import shutil"
   ]
  },
  {
   "cell_type": "code",
   "execution_count": null,
   "metadata": {},
   "outputs": [],
   "source": [
    "shutil."
   ]
  }
 ],
 "metadata": {
  "kernelspec": {
   "display_name": "Python 3",
   "language": "python",
   "name": "python3"
  },
  "language_info": {
   "codemirror_mode": {
    "name": "ipython",
    "version": 3
   },
   "file_extension": ".py",
   "mimetype": "text/x-python",
   "name": "python",
   "nbconvert_exporter": "python",
   "pygments_lexer": "ipython3",
   "version": "3.8.5"
  }
 },
 "nbformat": 4,
 "nbformat_minor": 4
}
